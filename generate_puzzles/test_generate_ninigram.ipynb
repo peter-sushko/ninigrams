{
 "cells": [
  {
   "cell_type": "code",
   "execution_count": 22,
   "metadata": {},
   "outputs": [
    {
     "data": {
      "image/png": "[encoded data removed]",
      "text/plain": [
       "<Figure size 600x600 with 1 Axes>"
      ]
     },
     "metadata": {},
     "output_type": "display_data"
    },
    {
     "name": "stdout",
     "output_type": "stream",
     "text": [
      "Trimmed grid dimensions: 15 x 11\n",
      "\n",
      "Trimmed grid:\n",
      "[[0, 0, 1, 1, 0, 0, 0, 0, 0, 0, 0], [0, 1, 1, 1, 0, 0, 0, 0, 0, 0, 0], [0, 1, 1, 1, 0, 1, 1, 1, 1, 0, 0], [0, 1, 1, 1, 0, 1, 1, 1, 1, 1, 0], [0, 1, 1, 1, 0, 1, 1, 0, 1, 1, 1], [0, 1, 1, 1, 0, 1, 1, 1, 0, 1, 1], [0, 1, 1, 1, 0, 1, 1, 1, 0, 0, 0], [0, 0, 1, 1, 1, 1, 1, 0, 0, 0, 0], [0, 1, 1, 1, 1, 1, 1, 1, 0, 0, 0], [0, 1, 1, 1, 1, 1, 1, 1, 0, 0, 0], [1, 1, 0, 1, 1, 1, 0, 1, 1, 0, 0], [1, 1, 0, 1, 1, 1, 0, 1, 1, 0, 0], [1, 1, 1, 1, 0, 1, 1, 1, 1, 0, 0], [0, 1, 1, 1, 1, 1, 1, 1, 0, 0, 0], [0, 0, 1, 1, 1, 1, 1, 0, 0, 0, 0]]\n"
     ]
    }
   ],
   "source": [
    "from PIL import Image\n",
    "import numpy as np\n",
    "import matplotlib.pyplot as plt\n",
    "\n",
    "def trim_edges(grid):\n",
    "    grid = np.array(grid)\n",
    "    \n",
    "    # Find first and last non-empty rows\n",
    "    non_empty_rows = np.where(np.any(grid != 0, axis=1))[0]\n",
    "    if len(non_empty_rows) == 0:\n",
    "        return [[]]\n",
    "    first_row, last_row = non_empty_rows[0], non_empty_rows[-1]\n",
    "    \n",
    "    # Find first and last non-empty columns\n",
    "    non_empty_cols = np.where(np.any(grid != 0, axis=0))[0]\n",
    "    if len(non_empty_cols) == 0:\n",
    "        return [[]]\n",
    "    first_col, last_col = non_empty_cols[0], non_empty_cols[-1]\n",
    "    \n",
    "    # Trim the grid\n",
    "    return grid[first_row:last_row+1, first_col:last_col+1]\n",
    "\n",
    "def png_to_2d_grid(png_path):\n",
    "    with Image.open(png_path) as img:\n",
    "        img = img.convert('RGBA')\n",
    "        alpha = np.array(img)[:, :, 3]\n",
    "        img = img.convert('L')\n",
    "        \n",
    "        img_array = np.array(img)\n",
    "        binary_grid = (img_array < 128).astype(int)\n",
    "        binary_grid[alpha == 0] = 0\n",
    "        \n",
    "        # Get trimmed grid\n",
    "        trimmed_grid = trim_edges(binary_grid)\n",
    "        \n",
    "        # Display trimmed binary grid only\n",
    "        plt.figure(figsize=(6, 6))\n",
    "        plt.imshow(trimmed_grid, cmap='binary')\n",
    "        plt.title('Trimmed Binary Grid')\n",
    "        plt.axis('off')\n",
    "        plt.show()\n",
    "        \n",
    "        return trimmed_grid.tolist()\n",
    "\n",
    "png_path = \"/Users/petrsushko/Downloads/bun_white.png\"\n",
    "grid = png_to_2d_grid(png_path)\n",
    "print(\"Trimmed grid dimensions:\", len(grid), \"x\", len(grid[0]))\n",
    "print(\"\\nTrimmed grid:\")\n",
    "print(grid)"
   ]
  },
  {
   "cell_type": "code",
   "execution_count": 31,
   "metadata": {},
   "outputs": [
    {
     "name": "stdout",
     "output_type": "stream",
     "text": [
      "Saved puzzle to bun_white.json\n"
     ]
    }
   ],
   "source": [
    "import os\n",
    "import json\n",
    "\n",
    "def get_consecutive_ones(row):\n",
    "    clues = []\n",
    "    count = 0\n",
    "    \n",
    "    for cell in row:\n",
    "        if cell == 1:\n",
    "            count += 1\n",
    "        elif count > 0:\n",
    "            clues.append(count)\n",
    "            count = 0\n",
    "    \n",
    "    if count > 0:\n",
    "        clues.append(count)\n",
    "    \n",
    "    return clues if clues else [0]\n",
    "\n",
    "def generate_nonogram_data(grid, name):\n",
    "    grid = np.array(grid)\n",
    "    \n",
    "    # Generate row clues\n",
    "    clue_row_data = [get_consecutive_ones(row) for row in grid]\n",
    "    \n",
    "    # Generate column clues\n",
    "    clue_col_data = [get_consecutive_ones(col) for col in grid.T]\n",
    "    \n",
    "    # Calculate max clues\n",
    "    max_clue_rows = max(len(clues) for clues in clue_row_data)\n",
    "    max_clue_cols = max(len(clues) for clues in clue_col_data)\n",
    "    \n",
    "    puzzle_data = {\n",
    "        \"name\": name,\n",
    "        \"clueRowData\": clue_row_data,\n",
    "        \"clueColData\": clue_col_data,\n",
    "        \"maxClueRows\": max_clue_rows,\n",
    "        \"maxClueCols\": max_clue_cols,\n",
    "        \"solution\": grid.tolist()\n",
    "    }\n",
    "    \n",
    "    return puzzle_data"
   ]
  },
  {
   "cell_type": "code",
   "execution_count": 32,
   "metadata": {},
   "outputs": [
    {
     "name": "stdout",
     "output_type": "stream",
     "text": [
      "Saved puzzle to bun_white.json\n"
     ]
    }
   ],
   "source": [
    "import os\n",
    "import json\n",
    "\n",
    "# Get the name from the PNG file (without extension)\n",
    "png_name = os.path.splitext(os.path.basename(png_path))[0]\n",
    "\n",
    "# Generate puzzle data\n",
    "puzzle = generate_nonogram_data(grid, png_name.capitalize())\n",
    "\n",
    "# Save to JSON file with custom formatting\n",
    "json_path = f\"{png_name}.json\"\n",
    "with open(json_path, 'w') as f:\n",
    "    f.write(\"{\\n\")\n",
    "    keys = list(puzzle.keys())\n",
    "    for i, key in enumerate(keys):\n",
    "        comma = \",\" if i < len(keys) - 1 else \"\"\n",
    "        f.write(f'    \"{key}\": {json.dumps(puzzle[key])}{comma}\\n')\n",
    "    f.write(\"}\\n\")\n",
    "\n",
    "print(f\"Saved puzzle to {json_path}\")\n"
   ]
  }
 ],
 "metadata": {
  "kernelspec": {
   "display_name": "reddev",
   "language": "python",
   "name": "python3"
  },
  "language_info": {
   "codemirror_mode": {
    "name": "ipython",
    "version": 3
   },
   "file_extension": ".py",
   "mimetype": "text/x-python",
   "name": "python",
   "nbconvert_exporter": "python",
   "pygments_lexer": "ipython3",
   "version": "3.13.0"
  }
 },
 "nbformat": 4,
 "nbformat_minor": 2
}
